{
 "cells": [
  {
   "cell_type": "code",
   "execution_count": 3,
   "id": "d682a3f9",
   "metadata": {},
   "outputs": [],
   "source": [
    "import numpy as np"
   ]
  },
  {
   "cell_type": "code",
   "execution_count": 10,
   "id": "b86faa31",
   "metadata": {},
   "outputs": [
    {
     "name": "stdout",
     "output_type": "stream",
     "text": [
      "[[ 0.   1.  -2.3  0.1]\n",
      " [ 1.3  4.  -0.1  0. ]\n",
      " [ 4.1 -1.   0.   1.7]]\n",
      "(3, 4)\n"
     ]
    }
   ],
   "source": [
    "A = np.array([[0,1,-2.3,0.1], [1.3,4,-0.1,0], [4.1, -1.0,0,1.7]])\n",
    "print(A)\n",
    "print(A.shape)"
   ]
  },
  {
   "cell_type": "code",
   "execution_count": 14,
   "id": "131b8dbe",
   "metadata": {},
   "outputs": [
    {
     "name": "stdout",
     "output_type": "stream",
     "text": [
      "# of rows:  3\n",
      "# of cols:  4\n"
     ]
    }
   ],
   "source": [
    "m,n = A.shape\n",
    "print('# of rows: ', m)\n",
    "print('# of cols: ', n) "
   ]
  },
  {
   "cell_type": "code",
   "execution_count": 15,
   "id": "65a5a473",
   "metadata": {},
   "outputs": [
    {
     "data": {
      "text/plain": [
       "False"
      ]
     },
     "execution_count": 15,
     "metadata": {},
     "output_type": "execute_result"
    }
   ],
   "source": [
    "tall=lambda X: A.shape[0] > A.shape[1]\n",
    "tall(A)"
   ]
  },
  {
   "cell_type": "code",
   "execution_count": 16,
   "id": "be9ccf7a",
   "metadata": {},
   "outputs": [
    {
     "data": {
      "text/plain": [
       "True"
      ]
     },
     "execution_count": 16,
     "metadata": {},
     "output_type": "execute_result"
    }
   ],
   "source": [
    "wide = lambda X: X.shape[0] < X.shape[1]\n",
    "wide(A)"
   ]
  },
  {
   "cell_type": "code",
   "execution_count": 17,
   "id": "420db55c",
   "metadata": {},
   "outputs": [
    {
     "name": "stdout",
     "output_type": "stream",
     "text": [
      "m: 3\n",
      "n: 4\n"
     ]
    }
   ],
   "source": [
    "A = [[0,1,-2.3,0.1], [1.3, 4, -0.1, 0], [4.1, -1.0, 0, 1.7]]\n",
    "print('m:', len(A))\n",
    "print('n:', len(A[0]))"
   ]
  },
  {
   "cell_type": "code",
   "execution_count": 27,
   "id": "9a4f317f",
   "metadata": {},
   "outputs": [
    {
     "data": {
      "text/plain": [
       "-2.3"
      ]
     },
     "execution_count": 27,
     "metadata": {},
     "output_type": "execute_result"
    }
   ],
   "source": [
    "A = np.array([[0 , 1, -2.3, 0.1], [1.3, 4, -0.1, 0], [ 4.1 , -1, 0 , 1.7]])\n",
    "A[0,2]"
   ]
  },
  {
   "cell_type": "code",
   "execution_count": 26,
   "id": "f99561c5",
   "metadata": {},
   "outputs": [
    {
     "name": "stdout",
     "output_type": "stream",
     "text": [
      "[[ True  True  True  True]\n",
      " [ True  True  True  True]\n",
      " [ True  True  True  True]]\n",
      "12\n"
     ]
    }
   ],
   "source": [
    "A = np.array([[0,1,-2.3,0.1], [1.3, 4, -0.1, 0], [4.1, -1.0, 0, 1.7]])\n",
    "B = A.copy()\n",
    "print(A==B)\n",
    "print(np.sum(A==B))"
   ]
  },
  {
   "cell_type": "code",
   "execution_count": 36,
   "id": "8410c8b0",
   "metadata": {},
   "outputs": [
    {
     "name": "stdout",
     "output_type": "stream",
     "text": [
      "[[ True  True  True False]\n",
      " [ True  True  True  True]\n",
      " [ True  True  True  True]]\n",
      "11\n"
     ]
    }
   ],
   "source": [
    "B=A.copy()\n",
    "B[0,3] = 100\n",
    "print(A==B)\n",
    "print(np.sum(A==B))"
   ]
  },
  {
   "cell_type": "code",
   "execution_count": 30,
   "id": "329559a2",
   "metadata": {},
   "outputs": [
    {
     "data": {
      "text/plain": [
       "False"
      ]
     },
     "execution_count": 30,
     "metadata": {},
     "output_type": "execute_result"
    }
   ],
   "source": [
    "A = [[0,1,-2.3,0.1],[1.3, 4, -0.1, 0],[4.1, -1.0, 0, 1.7]]\n",
    "B = [[0,1,-2.3,100],[1.3, 4, -0.1, 0],[4.1, -1.0, 0, 1.7]]\n",
    "A == B"
   ]
  },
  {
   "cell_type": "code",
   "execution_count": 31,
   "id": "a9acce96",
   "metadata": {},
   "outputs": [
    {
     "data": {
      "text/plain": [
       "(3,)"
      ]
     },
     "execution_count": 31,
     "metadata": {},
     "output_type": "execute_result"
    }
   ],
   "source": [
    "# a 3 vector\n",
    "a = np.array([-2.1, -3, 0])\n",
    "a.shape"
   ]
  },
  {
   "cell_type": "code",
   "execution_count": 32,
   "id": "8de1b54b",
   "metadata": {},
   "outputs": [
    {
     "data": {
      "text/plain": [
       "(3, 1)"
      ]
     },
     "execution_count": 32,
     "metadata": {},
     "output_type": "execute_result"
    }
   ],
   "source": [
    "# a 3-vector or a 3 by 1 matrix\n",
    "b = np.array([[-2.1],[-3],[0]])\n",
    "b.shape"
   ]
  },
  {
   "cell_type": "code",
   "execution_count": 33,
   "id": "d55aa9b5",
   "metadata": {},
   "outputs": [
    {
     "data": {
      "text/plain": [
       "(1, 3)"
      ]
     },
     "execution_count": 33,
     "metadata": {},
     "output_type": "execute_result"
    }
   ],
   "source": [
    "# a 3-row vector or a 1 by 3 matrix\n",
    "c = np.array([[-2.1, -3, 0]])\n",
    "c.shape"
   ]
  },
  {
   "cell_type": "code",
   "execution_count": 34,
   "id": "98a9c438",
   "metadata": {},
   "outputs": [
    {
     "data": {
      "text/plain": [
       "array([[1, 0],\n",
       "       [0, 1]])"
      ]
     },
     "execution_count": 34,
     "metadata": {},
     "output_type": "execute_result"
    }
   ],
   "source": [
    "A = np.array([[-1,0,1,0],[2,-3,0,1],[0,4,-2,1]])\n",
    "A[0:2,2:4]"
   ]
  },
  {
   "cell_type": "code",
   "execution_count": 37,
   "id": "c667c589",
   "metadata": {},
   "outputs": [
    {
     "data": {
      "text/plain": [
       "array([[ 1],\n",
       "       [ 0],\n",
       "       [-2]])"
      ]
     },
     "execution_count": 37,
     "metadata": {},
     "output_type": "execute_result"
    }
   ],
   "source": [
    "A[0:3,2:3]"
   ]
  },
  {
   "cell_type": "code",
   "execution_count": 38,
   "id": "92df5678",
   "metadata": {},
   "outputs": [
    {
     "data": {
      "text/plain": [
       "array([ 1,  0, -2])"
      ]
     },
     "execution_count": 38,
     "metadata": {},
     "output_type": "execute_result"
    }
   ],
   "source": [
    "A[:,2]"
   ]
  },
  {
   "cell_type": "code",
   "execution_count": 39,
   "id": "7dc7ea52",
   "metadata": {},
   "outputs": [
    {
     "data": {
      "text/plain": [
       "array([ 2, -3,  0,  1])"
      ]
     },
     "execution_count": 39,
     "metadata": {},
     "output_type": "execute_result"
    }
   ],
   "source": [
    "A[1,:]"
   ]
  },
  {
   "cell_type": "code",
   "execution_count": 40,
   "id": "1e095e18",
   "metadata": {},
   "outputs": [
    {
     "data": {
      "text/plain": [
       "array([[-1,  0],\n",
       "       [ 1,  0],\n",
       "       [ 2, -3],\n",
       "       [ 0,  1],\n",
       "       [ 0,  4],\n",
       "       [-2,  1]])"
      ]
     },
     "execution_count": 40,
     "metadata": {},
     "output_type": "execute_result"
    }
   ],
   "source": [
    "A.reshape((6,2))"
   ]
  },
  {
   "cell_type": "code",
   "execution_count": 41,
   "id": "1b73d505",
   "metadata": {},
   "outputs": [
    {
     "data": {
      "text/plain": [
       "array([[-1,  0,  1],\n",
       "       [ 0,  2, -3],\n",
       "       [ 0,  1,  0],\n",
       "       [ 4, -2,  1]])"
      ]
     },
     "execution_count": 41,
     "metadata": {},
     "output_type": "execute_result"
    }
   ],
   "source": [
    "A.reshape((4,3))"
   ]
  },
  {
   "cell_type": "code",
   "execution_count": 46,
   "id": "b61e2ded",
   "metadata": {},
   "outputs": [],
   "source": [
    "B = np.array([0,2,3])\n",
    "C = np.array([-1])\n",
    "D = np.array([[2,2,1],[1,3,5]])  \n",
    "E = np.array([[4],[4]])"
   ]
  },
  {
   "cell_type": "code",
   "execution_count": 47,
   "id": "e1b0413f",
   "metadata": {},
   "outputs": [
    {
     "data": {
      "text/plain": [
       "array([[ 0,  2,  3, -1],\n",
       "       [ 2,  2,  1,  4],\n",
       "       [ 1,  3,  5,  4]])"
      ]
     },
     "execution_count": 47,
     "metadata": {},
     "output_type": "execute_result"
    }
   ],
   "source": [
    "A=np.block([[B,C],[D,E]])\n",
    "A"
   ]
  },
  {
   "cell_type": "code",
   "execution_count": 48,
   "id": "fff5eca9",
   "metadata": {},
   "outputs": [
    {
     "name": "stdout",
     "output_type": "stream",
     "text": [
      "matrix A : [[1 2]\n",
      " [4 5]\n",
      " [7 8]]\n",
      "dimensions of A :  (3, 2)\n",
      "matrix B : [1 2 4 5 7 8]\n",
      "dimensions of B : (6,)\n"
     ]
    }
   ],
   "source": [
    "a=[1,2]\n",
    "b=[4,5]\n",
    "c=[7,8]\n",
    "A=np.vstack([a,b,c])\n",
    "B=np.hstack([a,b,c])\n",
    "print('matrix A :', A)\n",
    "print('dimensions of A : ', A.shape)\n",
    "print('matrix B :', B)\n",
    "print('dimensions of B :', B.shape)"
   ]
  },
  {
   "cell_type": "code",
   "execution_count": 49,
   "id": "51c2d0de",
   "metadata": {},
   "outputs": [
    {
     "name": "stdout",
     "output_type": "stream",
     "text": [
      "matrix A : [[1]\n",
      " [2]\n",
      " [4]\n",
      " [5]\n",
      " [7]\n",
      " [8]]\n",
      "dimensions of A : (6, 1)\n",
      "matrix B : [[1 4 7]\n",
      " [2 5 8]]\n",
      "dimensions of B : (2, 3)\n"
     ]
    }
   ],
   "source": [
    "a = [[1],[2]]\n",
    "b = [[4],[5]]\n",
    "c = [[7],[8]]\n",
    "A = np.vstack([a,b,c])\n",
    "B = np.hstack([a,b,c])\n",
    "print('matrix A :',A)\n",
    "print('dimensions of A :', A.shape)\n",
    "print('matrix B :',B)\n",
    "print('dimensions of B :', B.shape)"
   ]
  },
  {
   "cell_type": "code",
   "execution_count": 50,
   "id": "0993b5f2",
   "metadata": {},
   "outputs": [
    {
     "data": {
      "text/plain": [
       "array([[-1., -0., -0.,  0.],\n",
       "       [-0., -1., -0.,  0.],\n",
       "       [-0., -0., -1.,  0.]])"
      ]
     },
     "execution_count": 50,
     "metadata": {},
     "output_type": "execute_result"
    }
   ],
   "source": [
    "np.c_[-np.identity(3), np.zeros(3)]"
   ]
  },
  {
   "cell_type": "code",
   "execution_count": 51,
   "id": "04e46289",
   "metadata": {},
   "outputs": [
    {
     "data": {
      "text/plain": [
       "array([[1., 0., 0.],\n",
       "       [0., 1., 0.],\n",
       "       [0., 0., 1.],\n",
       "       [0., 0., 0.]])"
      ]
     },
     "execution_count": 51,
     "metadata": {},
     "output_type": "execute_result"
    }
   ],
   "source": [
    "np.r_[np.identity(3), np.zeros((1,3))]"
   ]
  },
  {
   "cell_type": "code",
   "execution_count": 52,
   "id": "758340ee",
   "metadata": {},
   "outputs": [
    {
     "data": {
      "text/plain": [
       "array([[1., 0., 0., 0.],\n",
       "       [0., 1., 0., 0.],\n",
       "       [0., 0., 1., 0.],\n",
       "       [0., 0., 0., 1.]])"
      ]
     },
     "execution_count": 52,
     "metadata": {},
     "output_type": "execute_result"
    }
   ],
   "source": [
    "np.identity(4)"
   ]
  },
  {
   "cell_type": "code",
   "execution_count": 53,
   "id": "b7a62ed5",
   "metadata": {},
   "outputs": [
    {
     "name": "stdout",
     "output_type": "stream",
     "text": [
      "[0 4 8]\n"
     ]
    }
   ],
   "source": [
    "x=np.array([[0,1,2],\n",
    "           [3,4,5],\n",
    "           [6,7,8]])\n",
    "print(np.diag(x))"
   ]
  },
  {
   "cell_type": "code",
   "execution_count": 54,
   "id": "6ac57558",
   "metadata": {},
   "outputs": [
    {
     "name": "stdout",
     "output_type": "stream",
     "text": [
      "[[0 0 0]\n",
      " [0 4 0]\n",
      " [0 0 8]]\n"
     ]
    }
   ],
   "source": [
    "print(np.diag(np.diag(x)))"
   ]
  },
  {
   "cell_type": "code",
   "execution_count": 55,
   "id": "9ce14b71",
   "metadata": {},
   "outputs": [
    {
     "data": {
      "text/plain": [
       "array([[0.21982676, 0.06371618, 0.78662559],\n",
       "       [0.05915205, 0.15556333, 0.92150596]])"
      ]
     },
     "execution_count": 55,
     "metadata": {},
     "output_type": "execute_result"
    }
   ],
   "source": [
    "np.random.random((2,3))"
   ]
  },
  {
   "cell_type": "code",
   "execution_count": 56,
   "id": "e32f1ec0",
   "metadata": {},
   "outputs": [
    {
     "data": {
      "text/plain": [
       "array([[0.61915024, 0.99587246, 0.85478387, 0.91943649],\n",
       "       [0.98331278, 0.35182039, 0.46682561, 0.91986315],\n",
       "       [0.08874269, 0.81184478, 0.14676703, 0.23416878]])"
      ]
     },
     "execution_count": 56,
     "metadata": {},
     "output_type": "execute_result"
    }
   ],
   "source": [
    "np.random.random((3,4))"
   ]
  },
  {
   "cell_type": "code",
   "execution_count": 57,
   "id": "b974cbc2",
   "metadata": {},
   "outputs": [
    {
     "data": {
      "text/plain": [
       "array([[0.35746567, 0.99146067, 0.12066749, 0.93706966],\n",
       "       [0.84047417, 0.84331684, 0.11539212, 0.45548374],\n",
       "       [0.35496535, 0.10501551, 0.80487379, 0.9175441 ]])"
      ]
     },
     "execution_count": 57,
     "metadata": {},
     "output_type": "execute_result"
    }
   ],
   "source": [
    "np.random.random((3,4))"
   ]
  },
  {
   "cell_type": "code",
   "execution_count": 60,
   "id": "1f83c476",
   "metadata": {},
   "outputs": [
    {
     "data": {
      "text/plain": [
       "<4x5 sparse matrix of type '<class 'numpy.float64'>'\n",
       "\twith 6 stored elements in COOrdinate format>"
      ]
     },
     "execution_count": 60,
     "metadata": {},
     "output_type": "execute_result"
    }
   ],
   "source": [
    "from scipy import sparse\n",
    "I=np.array([0,1,1,0,2,3])\n",
    "J=np.array([0,0,1,2,2,3])\n",
    "V=np.array([-1.11,0.15,-0.10,1.17,-0.30,0.13])\n",
    "A=sparse.coo_matrix((V,(I,J)),shape=(4,5))\n",
    "A"
   ]
  },
  {
   "cell_type": "code",
   "execution_count": 61,
   "id": "9a468c96",
   "metadata": {},
   "outputs": [
    {
     "data": {
      "text/plain": [
       "6"
      ]
     },
     "execution_count": 61,
     "metadata": {},
     "output_type": "execute_result"
    }
   ],
   "source": [
    "A.nnz"
   ]
  },
  {
   "cell_type": "code",
   "execution_count": 62,
   "id": "14e0a8b8",
   "metadata": {},
   "outputs": [
    {
     "data": {
      "text/plain": [
       "matrix([[-1.11,  0.  ,  1.17,  0.  ,  0.  ],\n",
       "        [ 0.15, -0.1 ,  0.  ,  0.  ,  0.  ],\n",
       "        [ 0.  ,  0.  , -0.3 ,  0.  ,  0.  ],\n",
       "        [ 0.  ,  0.  ,  0.  ,  0.13,  0.  ]])"
      ]
     },
     "execution_count": 62,
     "metadata": {},
     "output_type": "execute_result"
    }
   ],
   "source": [
    "A.todense()"
   ]
  },
  {
   "cell_type": "code",
   "execution_count": 63,
   "id": "14b23afd",
   "metadata": {},
   "outputs": [],
   "source": [
    "H=np.array([[0,1,-2,1],[2,-1,3,0]])"
   ]
  },
  {
   "cell_type": "code",
   "execution_count": 64,
   "id": "73ecbf65",
   "metadata": {},
   "outputs": [
    {
     "data": {
      "text/plain": [
       "array([[ 0,  2],\n",
       "       [ 1, -1],\n",
       "       [-2,  3],\n",
       "       [ 1,  0]])"
      ]
     },
     "execution_count": 64,
     "metadata": {},
     "output_type": "execute_result"
    }
   ],
   "source": [
    "H.T"
   ]
  },
  {
   "cell_type": "code",
   "execution_count": 65,
   "id": "795e1222",
   "metadata": {},
   "outputs": [
    {
     "data": {
      "text/plain": [
       "array([[ 0,  2],\n",
       "       [ 1, -1],\n",
       "       [-2,  3],\n",
       "       [ 1,  0]])"
      ]
     },
     "execution_count": 65,
     "metadata": {},
     "output_type": "execute_result"
    }
   ],
   "source": [
    "np.transpose(H)"
   ]
  },
  {
   "cell_type": "code",
   "execution_count": 66,
   "id": "d2823b9b",
   "metadata": {},
   "outputs": [
    {
     "data": {
      "text/plain": [
       "array([[1, 6],\n",
       "       [9, 3],\n",
       "       [3, 5]])"
      ]
     },
     "execution_count": 66,
     "metadata": {},
     "output_type": "execute_result"
    }
   ],
   "source": [
    "U = np.array([[0,4], [7,0], [3,1]]) \n",
    "V = np.array([[1,2], [2,3], [0,4]]) \n",
    "U+V"
   ]
  },
  {
   "cell_type": "code",
   "execution_count": 67,
   "id": "291bfe83",
   "metadata": {},
   "outputs": [
    {
     "data": {
      "text/plain": [
       "array([[ 0. ,  8.8],\n",
       "       [15.4,  0. ],\n",
       "       [ 6.6,  2.2]])"
      ]
     },
     "execution_count": 67,
     "metadata": {},
     "output_type": "execute_result"
    }
   ],
   "source": [
    "2.2*U"
   ]
  },
  {
   "cell_type": "code",
   "execution_count": 68,
   "id": "e0d13318",
   "metadata": {},
   "outputs": [
    {
     "data": {
      "text/plain": [
       "5.5677643628300215"
      ]
     },
     "execution_count": 68,
     "metadata": {},
     "output_type": "execute_result"
    }
   ],
   "source": [
    "A = np.array([[2,3,-1], [0,-1,4]])\n",
    "np.linalg.norm(A)"
   ]
  },
  {
   "cell_type": "code",
   "execution_count": 69,
   "id": "16e40265",
   "metadata": {},
   "outputs": [
    {
     "data": {
      "text/plain": [
       "5.5677643628300215"
      ]
     },
     "execution_count": 69,
     "metadata": {},
     "output_type": "execute_result"
    }
   ],
   "source": [
    "np.linalg.norm(A[:])"
   ]
  },
  {
   "cell_type": "code",
   "execution_count": 70,
   "id": "bd02e2eb",
   "metadata": {},
   "outputs": [
    {
     "data": {
      "text/plain": [
       "array([ 3, -4])"
      ]
     },
     "execution_count": 70,
     "metadata": {},
     "output_type": "execute_result"
    }
   ],
   "source": [
    "A = np.array([[0,2,-1],[-2,1,1]]) \n",
    "x = np.array([2,1,-1])\n",
    "A@x"
   ]
  },
  {
   "cell_type": "code",
   "execution_count": 72,
   "id": "8b79d2d8",
   "metadata": {},
   "outputs": [
    {
     "data": {
      "text/plain": [
       "array([ 3, -4])"
      ]
     },
     "execution_count": 72,
     "metadata": {},
     "output_type": "execute_result"
    }
   ],
   "source": [
    "np.matmul(A,x)"
   ]
  },
  {
   "cell_type": "code",
   "execution_count": 73,
   "id": "7de69988",
   "metadata": {},
   "outputs": [
    {
     "data": {
      "text/plain": [
       "[[0.5000000000000001, -0.8660254037844386],\n",
       " [0.8660254037844386, 0.5000000000000001]]"
      ]
     },
     "execution_count": 73,
     "metadata": {},
     "output_type": "execute_result"
    }
   ],
   "source": [
    "Rot = lambda theta: [[np.cos(theta), -np.sin(theta)],\n",
    "[np.sin(theta), np.cos(theta)]]\n",
    "R = Rot(np.pi/3)\n",
    "R"
   ]
  },
  {
   "cell_type": "code",
   "execution_count": 75,
   "id": "5af80264",
   "metadata": {},
   "outputs": [
    {
     "data": {
      "image/png": "[encoded data removed]",
      "text/plain": [
       "<Figure size 432x288 with 1 Axes>"
      ]
     },
     "metadata": {
      "needs_background": "light"
     },
     "output_type": "display_data"
    }
   ],
   "source": [
    "#create a list of 2-D points\n",
    "points = np.array([[1,0],[1.5,0],[2,0],[1,0.25],[1.5,0.25],[1,0.5]])\n",
    "\n",
    "rpoints = np.array([R @ p for p in points])\n",
    "\n",
    "import matplotlib.pyplot as plt\n",
    "plt.ion()\n",
    "plt.scatter([c[0] for c in points], [c[1] for c in points])\n",
    "plt.scatter([c[0] for c in rpoints],[c[1] for c in rpoints])\n",
    "plt.show()"
   ]
  }
 ],
 "metadata": {
  "kernelspec": {
   "display_name": "Python 3",
   "language": "python",
   "name": "python3"
  },
  "language_info": {
   "codemirror_mode": {
    "name": "ipython",
    "version": 3
   },
   "file_extension": ".py",
   "mimetype": "text/x-python",
   "name": "python",
   "nbconvert_exporter": "python",
   "pygments_lexer": "ipython3",
   "version": "3.8.8"
  }
 },
 "nbformat": 4,
 "nbformat_minor": 5
}
