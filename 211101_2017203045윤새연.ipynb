{
 "cells": [
  {
   "cell_type": "code",
   "execution_count": 1,
   "id": "57c38c5e",
   "metadata": {},
   "outputs": [
    {
     "data": {
      "text/plain": [
       "4"
      ]
     },
     "execution_count": 1,
     "metadata": {},
     "output_type": "execute_result"
    }
   ],
   "source": [
    "x=[1.1, 0.0, 3.6, -7.2]\n",
    "len(x)"
   ]
  },
  {
   "cell_type": "code",
   "execution_count": 29,
   "id": "1740a917",
   "metadata": {},
   "outputs": [
    {
     "ename": "SyntaxError",
     "evalue": "invalid syntax (<ipython-input-29-8872ce743467>, line 1)",
     "output_type": "error",
     "traceback": [
      "\u001b[0;36m  File \u001b[0;32m\"<ipython-input-29-8872ce743467>\"\u001b[0;36m, line \u001b[0;32m1\u001b[0m\n\u001b[0;31m    x=[1.1 0.0 3.6 -7.2]\u001b[0m\n\u001b[0m           ^\u001b[0m\n\u001b[0;31mSyntaxError\u001b[0m\u001b[0;31m:\u001b[0m invalid syntax\n"
     ]
    }
   ],
   "source": [
    "x=[1.1 0.0 3.6 -7.2]"
   ]
  },
  {
   "cell_type": "code",
   "execution_count": 13,
   "id": "55036ce3",
   "metadata": {},
   "outputs": [
    {
     "name": "stdout",
     "output_type": "stream",
     "text": [
      "4\n",
      "3.6\n",
      "[-1.1  0.  20.  -7.2]\n",
      "-7.2\n",
      "20.0\n"
     ]
    }
   ],
   "source": [
    "import numpy as np\n",
    "x=np.array([-1.1, 0.0, 3.6, -7.2])\n",
    "print(len(x))\n",
    "print(x[2])\n",
    "x[2] = 20.0\n",
    "print(x)\n",
    "print(x[-1]) #반대방향으로 회전 가능\n",
    "print(x[-2]) #반대방향"
   ]
  },
  {
   "cell_type": "code",
   "execution_count": 14,
   "id": "68402fcc",
   "metadata": {},
   "outputs": [
    {
     "name": "stdout",
     "output_type": "stream",
     "text": [
      "[-1.1  0.  20.  -7.2]\n"
     ]
    }
   ],
   "source": [
    "import numpy as np\n",
    "x=np.array([-1.1, 0.0, 3.6, -7.2])\n",
    "y=x #c언어로 치면 같은 주소 공간을 두 개의 포인터 변수가 가리키게 되는 것\n",
    "x[2]=20.0\n",
    "print(y)"
   ]
  },
  {
   "cell_type": "code",
   "execution_count": 16,
   "id": "782b7584",
   "metadata": {},
   "outputs": [
    {
     "name": "stdout",
     "output_type": "stream",
     "text": [
      "[-1.1  0.   3.6 -7.2]\n"
     ]
    }
   ],
   "source": [
    "import numpy as np\n",
    "x=np.array([-1.1, 0.0, 3.6, -7.2])\n",
    "y=x.copy() #배열의 복사본 생성\n",
    "x[2]=20.0\n",
    "print(y)"
   ]
  },
  {
   "cell_type": "code",
   "execution_count": 18,
   "id": "f7c8cf90",
   "metadata": {},
   "outputs": [
    {
     "data": {
      "text/plain": [
       "array([ True,  True,  True,  True])"
      ]
     },
     "execution_count": 18,
     "metadata": {},
     "output_type": "execute_result"
    }
   ],
   "source": [
    "import numpy as p\n",
    "x=np.array([-1.1, 0.0, 3.6, -7.2])\n",
    "y=x.copy()\n",
    "x==y #내용 상 같다면 같다고 return 해 준다."
   ]
  },
  {
   "cell_type": "code",
   "execution_count": 19,
   "id": "b83f1081",
   "metadata": {},
   "outputs": [
    {
     "data": {
      "text/plain": [
       "array([ True,  True,  True, False])"
      ]
     },
     "execution_count": 19,
     "metadata": {},
     "output_type": "execute_result"
    }
   ],
   "source": [
    "import numpy as p\n",
    "x=np.array([-1.1, 0.0, 3.6, -7.2])\n",
    "y=x.copy()\n",
    "y[3]=9.0\n",
    "x==y #내용 상 같다면 같다고 return 해 준다."
   ]
  },
  {
   "cell_type": "markdown",
   "id": "f90cc6b1",
   "metadata": {},
   "source": [
    "#### numpy 배열의 경우에는 배열의 원소 단위로 비교를 한다.\n",
    "#### 보통 list의 경우에는 그래서 true/false 값이 하나만 나올 것"
   ]
  },
  {
   "cell_type": "code",
   "execution_count": 22,
   "id": "3b4ee7e5",
   "metadata": {},
   "outputs": [
    {
     "data": {
      "text/plain": [
       "False"
      ]
     },
     "execution_count": 22,
     "metadata": {},
     "output_type": "execute_result"
    }
   ],
   "source": [
    "#일반 list\n",
    "x=2.4\n",
    "y=[2.4]\n",
    "x==y"
   ]
  },
  {
   "cell_type": "code",
   "execution_count": 23,
   "id": "69049565",
   "metadata": {},
   "outputs": [
    {
     "data": {
      "text/plain": [
       "array([ True])"
      ]
     },
     "execution_count": 23,
     "metadata": {},
     "output_type": "execute_result"
    }
   ],
   "source": [
    "#numpy list\n",
    "x=2.4\n",
    "y=np.array([2.4])\n",
    "x==y"
   ]
  },
  {
   "cell_type": "code",
   "execution_count": 31,
   "id": "a3ed9674",
   "metadata": {},
   "outputs": [
    {
     "name": "stdout",
     "output_type": "stream",
     "text": [
      "[ 1 -2  1  1  0]\n"
     ]
    }
   ],
   "source": [
    "x=np.array([1,-2])\n",
    "y=np.array([1, 1, 0])\n",
    "z=np.concatenate((x,y)) #벡터끼리의 연결\n",
    "print(z)"
   ]
  },
  {
   "cell_type": "code",
   "execution_count": 28,
   "id": "869f88f1",
   "metadata": {},
   "outputs": [
    {
     "name": "stdout",
     "output_type": "stream",
     "text": [
      "[8. 3. 2.]\n"
     ]
    }
   ],
   "source": [
    "import numpy as np\n",
    "x=np.array([1,8,3,2,1,9.7])\n",
    "y=x[1:4] #부분 배열 표시. index 1~(4-1) 표시\n",
    "print(y)"
   ]
  },
  {
   "cell_type": "code",
   "execution_count": 30,
   "id": "84454893",
   "metadata": {},
   "outputs": [
    {
     "name": "stdout",
     "output_type": "stream",
     "text": [
      "[  1.   8.   3. 100. 200. 300.]\n"
     ]
    }
   ],
   "source": [
    "x[3:6] = [100, 200, 300]\n",
    "print(x)"
   ]
  },
  {
   "cell_type": "code",
   "execution_count": 37,
   "id": "5c153806",
   "metadata": {},
   "outputs": [
    {
     "name": "stdout",
     "output_type": "stream",
     "text": [
      "[8 3 2 1 9]\n"
     ]
    }
   ],
   "source": [
    "x=np.array([1,8,3,2,1,9,7])\n",
    "y=x[1:-1] #-1은 마지막 원소. 따라서 마지막 원소 포함 안한 8 3 2 1 9 출력\n",
    "print(y)"
   ]
  },
  {
   "cell_type": "code",
   "execution_count": 34,
   "id": "4767444d",
   "metadata": {},
   "outputs": [
    {
     "name": "stdout",
     "output_type": "stream",
     "text": [
      "[  1   8   3 100 200 300   7]\n"
     ]
    }
   ],
   "source": [
    "x[3:6] = [100, 200, 300]\n",
    "print(x)"
   ]
  },
  {
   "cell_type": "code",
   "execution_count": 43,
   "id": "4d0f1ced",
   "metadata": {},
   "outputs": [
    {
     "data": {
      "text/plain": [
       "array([3, 2, 1, 9, 7])"
      ]
     },
     "execution_count": 43,
     "metadata": {},
     "output_type": "execute_result"
    }
   ],
   "source": [
    "x=np.array([1,8,3,2,1,9,7])\n",
    "x[2:] #index가 2인 원소부터 마지막 원소까지 출력"
   ]
  },
  {
   "cell_type": "code",
   "execution_count": 39,
   "id": "f4305f51",
   "metadata": {},
   "outputs": [
    {
     "data": {
      "text/plain": [
       "array([1, 8, 3, 2, 1, 9])"
      ]
     },
     "execution_count": 39,
     "metadata": {},
     "output_type": "execute_result"
    }
   ],
   "source": [
    "x[:-1] #처음부터 마지막 원소 뺀 나머지 출력"
   ]
  },
  {
   "cell_type": "code",
   "execution_count": 41,
   "id": "6c75290c",
   "metadata": {},
   "outputs": [
    {
     "data": {
      "text/plain": [
       "array([1, 8, 3, 2, 1, 9, 7])"
      ]
     },
     "execution_count": 41,
     "metadata": {},
     "output_type": "execute_result"
    }
   ],
   "source": [
    "x[:] #전체 범위 출력"
   ]
  },
  {
   "cell_type": "code",
   "execution_count": 44,
   "id": "cbb6a2d8",
   "metadata": {},
   "outputs": [
    {
     "data": {
      "text/plain": [
       "array([7, 9, 1, 2, 3, 8, 1])"
      ]
     },
     "execution_count": 44,
     "metadata": {},
     "output_type": "execute_result"
    }
   ],
   "source": [
    "x[::-1] #콜론 2개 있으면 간격을 의미한다"
   ]
  },
  {
   "cell_type": "code",
   "execution_count": 46,
   "id": "f283c9d9",
   "metadata": {},
   "outputs": [
    {
     "name": "stdout",
     "output_type": "stream",
     "text": [
      "[ 7 -5 -1 -1  8 -2]\n"
     ]
    }
   ],
   "source": [
    "x=np.array([1,8,3,2,1,9,7])\n",
    "d=x[1:]-x[:-1] #index 1번 원소부터 마지막 원소까지 부분 구간 - index 마지막 원소부터 첫 원소까지 부분 구간\n",
    "print(d)"
   ]
  },
  {
   "cell_type": "code",
   "execution_count": 47,
   "id": "65d29823",
   "metadata": {},
   "outputs": [
    {
     "name": "stdout",
     "output_type": "stream",
     "text": [
      "[8 3 2 1 9 7]\n",
      "[1 8 3 2 1 9]\n",
      "[ 7 -5 -1 -1  8 -2]\n"
     ]
    }
   ],
   "source": [
    "x=np.array([1,8,3,2,1,9,7])\n",
    "d=x[1:]-x[:-1]\n",
    "print(x[1:])\n",
    "print(x[:-1])\n",
    "print(d)"
   ]
  },
  {
   "cell_type": "code",
   "execution_count": 49,
   "id": "99826cc4",
   "metadata": {},
   "outputs": [
    {
     "data": {
      "text/plain": [
       "array([0., 0., 0.])"
      ]
     },
     "execution_count": 49,
     "metadata": {},
     "output_type": "execute_result"
    }
   ],
   "source": [
    "np.zeros(3) #크기 3인 0벡터"
   ]
  },
  {
   "cell_type": "code",
   "execution_count": 50,
   "id": "3be55f11",
   "metadata": {},
   "outputs": [
    {
     "name": "stdout",
     "output_type": "stream",
     "text": [
      "[0. 0. 1. 0.]\n"
     ]
    }
   ],
   "source": [
    "i=2\n",
    "n=4\n",
    "x=np.zeros(n)\n",
    "x[i]=1\n",
    "print(x)"
   ]
  },
  {
   "cell_type": "code",
   "execution_count": 51,
   "id": "71ddb564",
   "metadata": {},
   "outputs": [
    {
     "name": "stdout",
     "output_type": "stream",
     "text": [
      "[1. 0. 0. 0.]\n",
      "[0. 1. 0. 0.]\n",
      "[0. 0. 1. 0.]\n",
      "[0. 0. 0. 1.]\n"
     ]
    }
   ],
   "source": [
    "n=4\n",
    "for i in range(0,n):\n",
    "    x=np.zeros(n)\n",
    "    x[i]=1\n",
    "    print(x)"
   ]
  },
  {
   "cell_type": "code",
   "execution_count": 52,
   "id": "dfb90122",
   "metadata": {},
   "outputs": [
    {
     "data": {
      "text/plain": [
       "array([1., 1., 1.])"
      ]
     },
     "execution_count": 52,
     "metadata": {},
     "output_type": "execute_result"
    }
   ],
   "source": [
    "np.ones(3) "
   ]
  },
  {
   "cell_type": "code",
   "execution_count": 54,
   "id": "269c17d7",
   "metadata": {},
   "outputs": [
    {
     "data": {
      "text/plain": [
       "array([0.9055384 , 0.28595168])"
      ]
     },
     "execution_count": 54,
     "metadata": {},
     "output_type": "execute_result"
    }
   ],
   "source": [
    "np.random.random(2) #수 랜덤 생성"
   ]
  },
  {
   "cell_type": "code",
   "execution_count": 63,
   "id": "1a76e8a8",
   "metadata": {},
   "outputs": [
    {
     "data": {
      "image/png": "[encoded data removed]",
      "text/plain": [
       "<Figure size 432x288 with 1 Axes>"
      ]
     },
     "metadata": {
      "needs_background": "light"
     },
     "output_type": "display_data"
    }
   ],
   "source": [
    "import matplotlib.pyplot as plt\n",
    "plt.ion()\n",
    "temps = [ 71, 71, 68, 69, 68, 69, 68, 74, 77, 82, 85, 86, 88, 86,\n",
    " 85, 86, 84, 79, 77, 75, 73, 71, 70, 70, 69, 69, 69, 69, 67,\n",
    "68, 68, 73, 76, 77, 82, 84, 84, 81, 80, 78, 79, 78, 73, 72,\n",
    "70, 70, 68, 67 ]\n",
    "plt.plot(temps, '-bo')\n",
    "plt.savefig('temperature.pdf', format='pdf')\n",
    "plt.show()"
   ]
  },
  {
   "cell_type": "code",
   "execution_count": 64,
   "id": "221d5520",
   "metadata": {},
   "outputs": [
    {
     "data": {
      "image/png": "[encoded data removed]",
      "text/plain": [
       "<Figure size 432x288 with 1 Axes>"
      ]
     },
     "metadata": {
      "needs_background": "light"
     },
     "output_type": "display_data"
    }
   ],
   "source": [
    "import matplotlib.pyplot as plt\n",
    "plt.ion()\n",
    "temps = [ 71, 71, 68, 69, 68, 69, 68, 74, 77, 82, 85, 86, 88, 86,\n",
    " 85, 86, 84, 79, 77, 75, 73, 71, 70, 70, 69, 69, 69, 69, 67,\n",
    "68, 68, 73, 76, 77, 82, 84, 84, 81, 80, 78, 79, 78, 73, 72,\n",
    "70, 70, 68, 67 ]\n",
    "#순서 반대로인 새 list 만들어서 시각화 하기\n",
    "new_temps=temps.copy()\n",
    "plt.plot(new_temps[::-1], '-bo')\n",
    "plt.savefig('temperature.pdf', format='pdf')\n",
    "plt.show()"
   ]
  },
  {
   "cell_type": "code",
   "execution_count": 67,
   "id": "333eae6b",
   "metadata": {},
   "outputs": [
    {
     "name": "stdout",
     "output_type": "stream",
     "text": [
      "Sum of arrays :  [101 202 303]\n",
      "Difference of arrays :  [ -99 -198 -297]\n",
      "Scalar multiple of arrays :  [2.2 4.4 6.6]\n",
      "Scalar division of arrays :  [0.45454545 0.90909091 1.36363636]\n"
     ]
    }
   ],
   "source": [
    "x=np.array([1,2,3])\n",
    "y=np.array([100,200,300])\n",
    "print(\"Sum of arrays : \" , x+y) #벡터의 덧셈\n",
    "print(\"Difference of arrays : \", x-y) #벡터의 뺄셈\n",
    "print(\"Scalar multiple of arrays : \" , 2.2*x)\n",
    "print(\"Scalar division of arrays : \", x/2.2)"
   ]
  },
  {
   "cell_type": "code",
   "execution_count": 69,
   "id": "ff974e1c",
   "metadata": {},
   "outputs": [
    {
     "name": "stdout",
     "output_type": "stream",
     "text": [
      "[ 0.04063205 -0.0223914  -0.06411837]\n"
     ]
    }
   ],
   "source": [
    "p_initial = np.array([22.15, 89.32, 56.77])\n",
    "p_final = np.array([23.05, 87.32, 53.13])\n",
    "r=(p_final-p_initial)/p_initial\n",
    "print(r)"
   ]
  },
  {
   "cell_type": "code",
   "execution_count": 70,
   "id": "2cfecb19",
   "metadata": {},
   "outputs": [
    {
     "name": "stdout",
     "output_type": "stream",
     "text": [
      "[4. 5.]\n"
     ]
    }
   ],
   "source": [
    "#선형 결합\n",
    "import numpy as np\n",
    "a = np.array([1,2])\n",
    "b = np.array([3,4])\n",
    "alpha = -0.5\n",
    "beta = 1.5\n",
    "c = alpha*a + beta*b\n",
    "print(c)"
   ]
  },
  {
   "cell_type": "code",
   "execution_count": 71,
   "id": "96176e22",
   "metadata": {},
   "outputs": [
    {
     "data": {
      "text/plain": [
       "array([4., 5.])"
      ]
     },
     "execution_count": 71,
     "metadata": {},
     "output_type": "execute_result"
    }
   ],
   "source": [
    "def lincomb(coef, vectors):\n",
    "    n = len(vectors[0])\n",
    "    comb = np.zeros(n)\n",
    "    for i in range(len(vectors)):\n",
    "        comb = comb + coef[i] * vectors[i]\n",
    "    return comb\n",
    "lincomb([alpha, beta], [a,b])"
   ]
  },
  {
   "cell_type": "code",
   "execution_count": null,
   "id": "a25d8a37",
   "metadata": {},
   "outputs": [],
   "source": []
  }
 ],
 "metadata": {
  "jupytext": {
   "encoding": "# -*- coding: utf-8 -*-",
   "formats": "ipynb,py:light"
  },
  "kernelspec": {
   "display_name": "Python 3",
   "language": "python",
   "name": "python3"
  },
  "language_info": {
   "codemirror_mode": {
    "name": "ipython",
    "version": 3
   },
   "file_extension": ".py",
   "mimetype": "text/x-python",
   "name": "python",
   "nbconvert_exporter": "python",
   "pygments_lexer": "ipython3",
   "version": "3.8.8"
  }
 },
 "nbformat": 4,
 "nbformat_minor": 5
}
